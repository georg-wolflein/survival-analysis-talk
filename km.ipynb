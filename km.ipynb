{
 "cells": [
  {
   "cell_type": "code",
   "execution_count": 71,
   "metadata": {},
   "outputs": [],
   "source": [
    "import matplotlib.pyplot as plt\n",
    "import numpy as np\n",
    "import pandas as pd\n",
    "from pathlib import Path"
   ]
  },
  {
   "cell_type": "code",
   "execution_count": 84,
   "metadata": {},
   "outputs": [
    {
     "data": {
      "image/png": "[encoded data removed]",
      "text/plain": [
       "<Figure size 432x288 with 1 Axes>"
      ]
     },
     "metadata": {
      "needs_background": "light"
     },
     "output_type": "display_data"
    }
   ],
   "source": [
    "input_file = Path(\"surv_data1.txt\")\n",
    "df = pd.read_csv(\"surv_data1.txt\", sep=\" \")\n",
    "time = df[\"Days\"]\n",
    "event = df[\"Event\"]\n",
    "survival = 1 - event.cumsum() / event.sum()\n",
    "at_risk = np.arange(event.count(), 0, -1)\n",
    "km = np.cumprod(1 - event / at_risk)\n",
    "\n",
    "plt.step(time, survival, where=\"post\", c=\"blue\", label=\"$S(t)$\")\n",
    "plt.scatter(time[event == 0], survival[event == 0], c=\"blue\", marker=\"+\")\n",
    "plt.step(time, km, where=\"post\", c=\"orange\", label=\"$\\hat{S}(t)$\")\n",
    "plt.scatter(time[event == 0], km[event == 0], c=\"orange\", marker=\"+\")\n",
    "\n",
    "plt.xlabel(\"$t$\")\n",
    "plt.legend()\n",
    "\n",
    "df = pd.DataFrame({\n",
    "    \"time\": time,\n",
    "    \"event\": event,\n",
    "    \"at_risk\": at_risk,\n",
    "    \"survival\": survival,\n",
    "    \"km\": km,\n",
    "})\n",
    "df.to_csv(input_file.with_suffix(\".csv\"), index=False)"
   ]
  },
  {
   "cell_type": "code",
   "execution_count": null,
   "metadata": {},
   "outputs": [],
   "source": []
  }
 ],
 "metadata": {
  "interpreter": {
   "hash": "aee8b7b246df8f9039afb4144a1f6fd8d2ca17a180786b69acc140d282b71a49"
  },
  "kernelspec": {
   "display_name": "Python 3.9.10 64-bit",
   "language": "python",
   "name": "python3"
  },
  "language_info": {
   "codemirror_mode": {
    "name": "ipython",
    "version": 3
   },
   "file_extension": ".py",
   "mimetype": "text/x-python",
   "name": "python",
   "nbconvert_exporter": "python",
   "pygments_lexer": "ipython3",
   "version": "3.9.10"
  },
  "orig_nbformat": 4
 },
 "nbformat": 4,
 "nbformat_minor": 2
}
